{
  "nbformat": 4,
  "nbformat_minor": 0,
  "metadata": {
    "colab": {
      "provenance": [],
      "authorship_tag": "ABX9TyOAnIDSw6jHkxc1Q7ASA2F7"
    },
    "kernelspec": {
      "name": "python3",
      "display_name": "Python 3"
    },
    "language_info": {
      "name": "python"
    }
  },
  "cells": [
    {
      "cell_type": "markdown",
      "source": [
        "**GRIP @THE SPARKS FOUNDATION**\n",
        "\n",
        "**Data Science & Business Analytics Internship**\n",
        "\n",
        "**BATCH: OCTOBER 2023**\n",
        "\n",
        "**Name: Punam Dahal**"
      ],
      "metadata": {
        "id": "6lLuqBEDvnNh"
      }
    },
    {
      "cell_type": "markdown",
      "source": [
        "# **Task2: Prediction Using Unsupervised ML**\n",
        "\n",
        "From the given 'Iris' dataset, predict the optimum number of clusters and represent it visually.\n",
        "\n",
        "\n"
      ],
      "metadata": {
        "id": "PkCoyVPZvyUq"
      }
    },
    {
      "cell_type": "markdown",
      "source": [
        "**Importing Librarires**"
      ],
      "metadata": {
        "id": "F8AGF8lJwVp7"
      }
    },
    {
      "cell_type": "code",
      "source": [
        "import pandas as pd\n",
        "import numpy as np\n",
        "import matplotlib.pyplot as plt\n",
        "%matplotlib inline"
      ],
      "metadata": {
        "id": "rV0RfkntwR1z"
      },
      "execution_count": null,
      "outputs": []
    }
  ]
}